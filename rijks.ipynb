{
 "cells": [
  {
   "cell_type": "code",
   "execution_count": 4,
   "metadata": {},
   "outputs": [],
   "source": [
    "from src.rijks import rijks_find_results_full, rijks_find_object\n",
    "import pandas as pd\n",
    "import nest_asyncio\n",
    "from IPython.display import FileLink\n",
    "\n",
    "nest_asyncio.apply()"
   ]
  },
  {
   "cell_type": "markdown",
   "metadata": {},
   "source": [
    "# Find single object from Rijksmuseum, based on object number\n",
    "\n",
    "Generates a CSV file with the name rijks_object_(object number).csv.\n",
    "The result is also cached in a JSON file, which is saved under the folder json\\rijks\\\\(language)\\\\(object number).json\n",
    "\n",
    "You can choose to use either English or Dutch as the language for the results."
   ]
  },
  {
   "cell_type": "code",
   "execution_count": 5,
   "metadata": {},
   "outputs": [
    {
     "data": {
      "text/html": [
       "<a href='rijks_object_SK-C-5.csv' target='_blank'>rijks_object_SK-C-5.csv</a><br>"
      ],
      "text/plain": [
       "/Users/lauri/temp/museum-data-ikm/rijks_object_SK-C-5.csv"
      ]
     },
     "execution_count": 5,
     "metadata": {},
     "output_type": "execute_result"
    }
   ],
   "source": [
    "object_nr = \"SK-C-5\"\n",
    "language = \"en\"   # use \"nl\" for Dutch\n",
    "\n",
    "result = rijks_find_object(object_nr, lang=language)\n",
    "df = pd.json_normalize(result)\n",
    "df.to_csv(f'rijks_object_{object_nr}.csv', sep=\";\")\n",
    "\n",
    "FileLink(f'rijks_object_{object_nr}.csv')"
   ]
  },
  {
   "cell_type": "markdown",
   "metadata": {},
   "source": [
    "# Download full information from Rijks API based on a query term.\n",
    "\n",
    "Generates a CSV file with the name rijks_data_full_(query).csv.\n",
    "\n",
    "You can choose to use either English or Dutch as the language for the results.\n",
    "\n",
    "The queries will often hit the rate limiter - I think the current rate of requests is a half decent compromise between response time for the queries and trying to limit the waiting time, but the timings can be adjusted. I've included a 30 second delay whenever the rate limiter is hit. The code will just pause for 30 seconds, and resume running the query afterwards.\n",
    "\n",
    "The API does not handle sending many requests at the same time very well, so the queries will often fail. Everything is saved while the query is running, so when things do fail, just try again and the query will start again from where it failed. The same exact cache files are used for this as the object number based search.\n",
    "\n",
    "You can also choose to not use the cache by adding an overwrite=True option to the rijks_find_results_full function below. This will always find the latest results from the API. You can do this by changing the one line to this:\n",
    "\n",
    "result = rijks_find_results_full(query, lang=language, overwrite=True)\n"
   ]
  },
  {
   "cell_type": "code",
   "execution_count": 6,
   "metadata": {},
   "outputs": [
    {
     "name": "stdout",
     "output_type": "stream",
     "text": [
      "Found 16417 results. Collecting object numbers. This may take a while, if there are a lot of results.\n",
      "715 objects in cache.\n",
      "Progress: 1 / 929\n",
      "Progress: 2 / 929\n",
      "Oops, hit rate limiter. Waiting 30 seconds.\n"
     ]
    }
   ],
   "source": [
    "query = \"green\"\n",
    "language = \"en\"   # use \"nl\" for Dutch\n",
    "\n",
    "result = rijks_find_results_full(query, lang=language)\n",
    "df = pd.json_normalize(result)\n",
    "df.to_csv(f'rijks_data_full_{query}.csv', sep=\";\")\n",
    "\n",
    "FileLink(f'rijks_data_full_{query}.csv')"
   ]
  }
 ],
 "metadata": {
  "interpreter": {
   "hash": "a0a5145e6c304e2a9afaf5b930a2955b950bd4b81fe94f7c42930f43f42762eb"
  },
  "kernelspec": {
   "display_name": "Python 3.10.2 64-bit",
   "language": "python",
   "name": "python3"
  },
  "language_info": {
   "codemirror_mode": {
    "name": "ipython",
    "version": 3
   },
   "file_extension": ".py",
   "mimetype": "text/x-python",
   "name": "python",
   "nbconvert_exporter": "python",
   "pygments_lexer": "ipython3",
   "version": "3.10.6"
  },
  "orig_nbformat": 4
 },
 "nbformat": 4,
 "nbformat_minor": 2
}
