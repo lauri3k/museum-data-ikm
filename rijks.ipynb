{
 "cells": [
  {
   "cell_type": "code",
   "execution_count": 20,
   "metadata": {},
   "outputs": [],
   "source": [
    "from rijks import rijks_find_results_full, rijks_find_object\n",
    "import pandas as pd\n",
    "import nest_asyncio\n",
    "from IPython.display import FileLink\n",
    "\n",
    "nest_asyncio.apply()"
   ]
  },
  {
   "cell_type": "markdown",
   "metadata": {},
   "source": [
    "# Find single object from Rijksmuseum, based on object number\n",
    "\n",
    "Generates a CSV file with the name rijks_object_(object number).csv.\n",
    "The result is also cached in a JSON file, which is saved under the folder json\\rijks\\\\(language)\\\\(object number).json\n",
    "\n",
    "You can choose to use either English or Dutch as the language for the results."
   ]
  },
  {
   "cell_type": "code",
   "execution_count": 21,
   "metadata": {},
   "outputs": [
    {
     "data": {
      "text/html": [
       "<div>\n",
       "<style scoped>\n",
       "    .dataframe tbody tr th:only-of-type {\n",
       "        vertical-align: middle;\n",
       "    }\n",
       "\n",
       "    .dataframe tbody tr th {\n",
       "        vertical-align: top;\n",
       "    }\n",
       "\n",
       "    .dataframe thead th {\n",
       "        text-align: right;\n",
       "    }\n",
       "</style>\n",
       "<table border=\"1\" class=\"dataframe\">\n",
       "  <thead>\n",
       "    <tr style=\"text-align: right;\">\n",
       "      <th></th>\n",
       "      <th>elapsedMilliseconds</th>\n",
       "      <th>artObject.links.search</th>\n",
       "      <th>artObject.id</th>\n",
       "      <th>artObject.priref</th>\n",
       "      <th>artObject.objectNumber</th>\n",
       "      <th>artObject.language</th>\n",
       "      <th>artObject.title</th>\n",
       "      <th>artObject.copyrightHolder</th>\n",
       "      <th>artObject.webImage.guid</th>\n",
       "      <th>artObject.webImage.offsetPercentageX</th>\n",
       "      <th>...</th>\n",
       "      <th>artObjectPage.tags</th>\n",
       "      <th>artObjectPage.plaqueDescription</th>\n",
       "      <th>artObjectPage.audioFile1</th>\n",
       "      <th>artObjectPage.audioFileLabel1</th>\n",
       "      <th>artObjectPage.audioFileLabel2</th>\n",
       "      <th>artObjectPage.createdOn</th>\n",
       "      <th>artObjectPage.updatedOn</th>\n",
       "      <th>artObjectPage.adlibOverrides.titel</th>\n",
       "      <th>artObjectPage.adlibOverrides.maker</th>\n",
       "      <th>artObjectPage.adlibOverrides.etiketText</th>\n",
       "    </tr>\n",
       "  </thead>\n",
       "  <tbody>\n",
       "    <tr>\n",
       "      <th>0</th>\n",
       "      <td>684</td>\n",
       "      <td>http://www.rijksmuseum.nl/api/nl/collection</td>\n",
       "      <td>en-SK-C-5</td>\n",
       "      <td>5216</td>\n",
       "      <td>SK-C-5</td>\n",
       "      <td>en</td>\n",
       "      <td>The Night Watch</td>\n",
       "      <td>None</td>\n",
       "      <td>bbd1fae8-4023-4859-8ed1-d38616aec96c</td>\n",
       "      <td>50</td>\n",
       "      <td>...</td>\n",
       "      <td>[]</td>\n",
       "      <td>Rembrandt’s largest, most famous canvas was ma...</td>\n",
       "      <td>None</td>\n",
       "      <td>None</td>\n",
       "      <td>None</td>\n",
       "      <td>2012-08-09T14:47:53.679885+00:00</td>\n",
       "      <td>2012-09-18T14:05:59.8527283+00:00</td>\n",
       "      <td>None</td>\n",
       "      <td>None</td>\n",
       "      <td>None</td>\n",
       "    </tr>\n",
       "  </tbody>\n",
       "</table>\n",
       "<p>1 rows × 83 columns</p>\n",
       "</div>"
      ],
      "text/plain": [
       "   elapsedMilliseconds                       artObject.links.search  \\\n",
       "0                  684  http://www.rijksmuseum.nl/api/nl/collection   \n",
       "\n",
       "  artObject.id artObject.priref artObject.objectNumber artObject.language  \\\n",
       "0    en-SK-C-5             5216                 SK-C-5                 en   \n",
       "\n",
       "   artObject.title artObject.copyrightHolder  \\\n",
       "0  The Night Watch                      None   \n",
       "\n",
       "                artObject.webImage.guid  artObject.webImage.offsetPercentageX  \\\n",
       "0  bbd1fae8-4023-4859-8ed1-d38616aec96c                                    50   \n",
       "\n",
       "   ...  artObjectPage.tags                    artObjectPage.plaqueDescription  \\\n",
       "0  ...                  []  Rembrandt’s largest, most famous canvas was ma...   \n",
       "\n",
       "   artObjectPage.audioFile1 artObjectPage.audioFileLabel1  \\\n",
       "0                      None                          None   \n",
       "\n",
       "  artObjectPage.audioFileLabel2           artObjectPage.createdOn  \\\n",
       "0                          None  2012-08-09T14:47:53.679885+00:00   \n",
       "\n",
       "             artObjectPage.updatedOn artObjectPage.adlibOverrides.titel  \\\n",
       "0  2012-09-18T14:05:59.8527283+00:00                               None   \n",
       "\n",
       "  artObjectPage.adlibOverrides.maker artObjectPage.adlibOverrides.etiketText  \n",
       "0                               None                                    None  \n",
       "\n",
       "[1 rows x 83 columns]"
      ]
     },
     "execution_count": 21,
     "metadata": {},
     "output_type": "execute_result"
    }
   ],
   "source": [
    "object_nr = \"SK-C-5\"\n",
    "language = \"en\"   # use \"nl\" for Dutch\n",
    "\n",
    "result = rijks_find_object(object_nr, lang=language)\n",
    "df = pd.json_normalize(result)\n",
    "df.to_csv(f'rijks_object_{object_nr}.csv', sep=\";\")\n",
    "\n",
    "FileLink(f'rijks_object_{object_nr}.csv')\n",
    "\n",
    "df"
   ]
  },
  {
   "cell_type": "markdown",
   "metadata": {},
   "source": [
    "# Download full information from Rijks API based on a query term.\n",
    "\n",
    "Generates a CSV file with the name rijks_data_full_(query).csv.\n",
    "\n",
    "You can choose to use either English or Dutch as the language for the results.\n",
    "\n",
    "The queries will often hit the rate limiter - I think the current rate of requests is a half decent compromise between response time for the queries and trying to limit the waiting time, but the timings can be adjusted. I've included a 30 second delay whenever the rate limiter is hit. The code will just pause for 30 seconds, and resume running the query afterwards.\n",
    "\n",
    "The API does not handle sending many requests at the same time very well, so the queries will often fail. Everything is saved while the query is running, so when things fail, just try again and the query will start again from where it failed.\n",
    "\n",
    "You can also choose to not use the cache by adding an overwrite=True option to the rijks_find_results_full function below. This will always find the latest results from the API. You can do this by changing the one line to this:\n",
    "\n",
    "result = rijks_find_results_full(query, lang=language, overwrite=True)\n"
   ]
  },
  {
   "cell_type": "code",
   "execution_count": 22,
   "metadata": {},
   "outputs": [
    {
     "name": "stdout",
     "output_type": "stream",
     "text": [
      "Found 603 results.\n",
      "603 objects in cache.\n"
     ]
    },
    {
     "data": {
      "text/html": [
       "<a href='rijks_data_full_green.csv' target='_blank'>rijks_data_full_green.csv</a><br>"
      ],
      "text/plain": [
       "/Users/lauri/museum-data-ikm/rijks_data_full_green.csv"
      ]
     },
     "execution_count": 22,
     "metadata": {},
     "output_type": "execute_result"
    }
   ],
   "source": [
    "query = \"green\"\n",
    "language = \"en\"   # use \"nl\" for Dutch\n",
    "\n",
    "result = rijks_find_results_full(query, lang=language)\n",
    "df = pd.json_normalize(result)\n",
    "df.to_csv(f'rijks_data_full_{query}.csv', sep=\";\")\n",
    "\n",
    "FileLink(f'rijks_data_full_{query}.csv')"
   ]
  }
 ],
 "metadata": {
  "interpreter": {
   "hash": "a0a5145e6c304e2a9afaf5b930a2955b950bd4b81fe94f7c42930f43f42762eb"
  },
  "kernelspec": {
   "display_name": "Python 3.10.2 64-bit",
   "language": "python",
   "name": "python3"
  },
  "language_info": {
   "codemirror_mode": {
    "name": "ipython",
    "version": 3
   },
   "file_extension": ".py",
   "mimetype": "text/x-python",
   "name": "python",
   "nbconvert_exporter": "python",
   "pygments_lexer": "ipython3",
   "version": "3.10.2"
  },
  "orig_nbformat": 4
 },
 "nbformat": 4,
 "nbformat_minor": 2
}
