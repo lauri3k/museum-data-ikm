{
 "cells": [
  {
   "cell_type": "code",
   "execution_count": 2,
   "metadata": {},
   "outputs": [],
   "source": [
    "from src.rijks import rijks_find_results\n",
    "from src.met import met_find_results\n",
    "from src.tate import tate_find_results\n",
    "\n",
    "import os\n",
    "import pandas as pd\n",
    "import nest_asyncio\n",
    "import asyncio\n",
    "\n",
    "nest_asyncio.apply()\n",
    "\n",
    "from IPython.display import FileLink"
   ]
  },
  {
   "cell_type": "code",
   "execution_count": 3,
   "metadata": {},
   "outputs": [],
   "source": [
    "from src.utils import make_df\n",
    "\n",
    "tate_df = make_df(os.path.join(\"collection\", \"artworks\"))"
   ]
  },
  {
   "cell_type": "code",
   "execution_count": 4,
   "metadata": {},
   "outputs": [
    {
     "name": "stdout",
     "output_type": "stream",
     "text": [
      "Found 179 results.\n"
     ]
    },
    {
     "data": {
      "text/html": [
       "<a href='rijks_data_slave.csv' target='_blank'>rijks_data_slave.csv</a><br>"
      ],
      "text/plain": [
       "/Users/lauri/temp/museum-data-ikm/rijks_data_slave.csv"
      ]
     },
     "execution_count": 4,
     "metadata": {},
     "output_type": "execute_result"
    }
   ],
   "source": [
    "query = \"slave\"\n",
    "\n",
    "results = rijks_find_results(query, lang=\"en\")\n",
    "\n",
    "df = pd.json_normalize(results)\n",
    "df.to_csv(f'rijks_data_{query}.csv', sep=\";\")\n",
    "\n",
    "FileLink(f'rijks_data_{query}.csv')"
   ]
  },
  {
   "cell_type": "code",
   "execution_count": 5,
   "metadata": {},
   "outputs": [
    {
     "name": "stdout",
     "output_type": "stream",
     "text": [
      "Found 516 results.\n",
      "Attempted to query https://collectionapi.metmuseum.org/public/collection/v1/objects/21125.\n",
      "The API could not find the object with ID 21125.\n",
      "Attempted to query https://collectionapi.metmuseum.org/public/collection/v1/objects/318430.\n",
      "The API could not find the object with ID 318430.\n"
     ]
    },
    {
     "data": {
      "text/html": [
       "<a href='met_data_slave.csv' target='_blank'>met_data_slave.csv</a><br>"
      ],
      "text/plain": [
       "/Users/lauri/temp/museum-data-ikm/met_data_slave.csv"
      ]
     },
     "execution_count": 5,
     "metadata": {},
     "output_type": "execute_result"
    }
   ],
   "source": [
    "query = \"slave\"\n",
    "\n",
    "results = asyncio.run(met_find_results(query))\n",
    "\n",
    "df = pd.json_normalize(results)\n",
    "df.to_csv(f'met_data_{query}.csv', sep=\";\")\n",
    "\n",
    "FileLink(f'met_data_{query}.csv')"
   ]
  },
  {
   "cell_type": "code",
   "execution_count": 6,
   "metadata": {},
   "outputs": [
    {
     "name": "stdout",
     "output_type": "stream",
     "text": [
      "Found 48 results.\n"
     ]
    },
    {
     "data": {
      "text/html": [
       "<a href='tate_data_slave.csv' target='_blank'>tate_data_slave.csv</a><br>"
      ],
      "text/plain": [
       "/Users/lauri/temp/museum-data-ikm/tate_data_slave.csv"
      ]
     },
     "execution_count": 6,
     "metadata": {},
     "output_type": "execute_result"
    }
   ],
   "source": [
    "query = \"slave\"\n",
    "\n",
    "# results = tate_find_results(tate_df, query, [\"title\", \"classification\"])\n",
    "results = tate_find_results(tate_df, query)\n",
    "\n",
    "results.to_csv(f'tate_data_{query}.csv', sep=\";\")\n",
    "\n",
    "FileLink(f'tate_data_{query}.csv')"
   ]
  }
 ],
 "metadata": {
  "kernelspec": {
   "display_name": "Python 3.10.6 64-bit",
   "language": "python",
   "name": "python3"
  },
  "language_info": {
   "codemirror_mode": {
    "name": "ipython",
    "version": 3
   },
   "file_extension": ".py",
   "mimetype": "text/x-python",
   "name": "python",
   "nbconvert_exporter": "python",
   "pygments_lexer": "ipython3",
   "version": "3.10.6"
  },
  "orig_nbformat": 4,
  "vscode": {
   "interpreter": {
    "hash": "b0fa6594d8f4cbf19f97940f81e996739fb7646882a419484c72d19e05852a7e"
   }
  }
 },
 "nbformat": 4,
 "nbformat_minor": 2
}
