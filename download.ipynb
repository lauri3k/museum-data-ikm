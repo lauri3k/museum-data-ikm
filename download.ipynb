{
 "cells": [
  {
   "cell_type": "code",
   "execution_count": 1,
   "metadata": {},
   "outputs": [],
   "source": [
    "from rijks import rijks_find_results\n",
    "from met import met_find_results\n",
    "from tate import tate_find_results\n",
    "\n",
    "import pandas as pd\n",
    "import nest_asyncio\n",
    "import asyncio\n",
    "\n",
    "nest_asyncio.apply()\n",
    "\n",
    "from IPython.display import FileLink\n"
   ]
  },
  {
   "cell_type": "code",
   "execution_count": 2,
   "metadata": {},
   "outputs": [],
   "source": [
    "# from utils import make_df\n",
    "# tate_df = make_df(\"/Users/lauri/tate/collection/artworks/\")"
   ]
  },
  {
   "cell_type": "code",
   "execution_count": 3,
   "metadata": {},
   "outputs": [
    {
     "name": "stdout",
     "output_type": "stream",
     "text": [
      "Found 178 results.\n"
     ]
    },
    {
     "data": {
      "text/html": [
       "<a href='rijks_data.csv' target='_blank'>rijks_data.csv</a><br>"
      ],
      "text/plain": [
       "/Users/lauri/museum-data-ikm/rijks_data.csv"
      ]
     },
     "execution_count": 3,
     "metadata": {},
     "output_type": "execute_result"
    }
   ],
   "source": [
    "results = rijks_find_results(\"slave\", lang=\"en\")\n",
    "\n",
    "df = pd.json_normalize(results)\n",
    "df.to_csv('rijks_data.csv')\n",
    "\n",
    "FileLink('rijks_data.csv')"
   ]
  },
  {
   "cell_type": "code",
   "execution_count": 4,
   "metadata": {},
   "outputs": [
    {
     "name": "stdout",
     "output_type": "stream",
     "text": [
      "Found 512 results.\n",
      "Attempted to query https://collectionapi.metmuseum.org/public/collection/v1/objects/21125.\n",
      "The API could not find the object with ID 21125.\n",
      "Attempted to query https://collectionapi.metmuseum.org/public/collection/v1/objects/318430.\n",
      "The API could not find the object with ID 318430.\n"
     ]
    },
    {
     "data": {
      "text/html": [
       "<a href='met_data.csv' target='_blank'>met_data.csv</a><br>"
      ],
      "text/plain": [
       "/Users/lauri/museum-data-ikm/met_data.csv"
      ]
     },
     "execution_count": 4,
     "metadata": {},
     "output_type": "execute_result"
    }
   ],
   "source": [
    "results = asyncio.run(met_find_results(\"slave\"))\n",
    "\n",
    "df = pd.json_normalize(results)\n",
    "df.to_csv('met_data.csv')\n",
    "\n",
    "FileLink('met_data.csv')"
   ]
  },
  {
   "cell_type": "code",
   "execution_count": 5,
   "metadata": {},
   "outputs": [
    {
     "name": "stdout",
     "output_type": "stream",
     "text": [
      "Found 48 results.\n"
     ]
    },
    {
     "data": {
      "text/html": [
       "<a href='tate_data.csv' target='_blank'>tate_data.csv</a><br>"
      ],
      "text/plain": [
       "/Users/lauri/museum-data-ikm/tate_data.csv"
      ]
     },
     "execution_count": 5,
     "metadata": {},
     "output_type": "execute_result"
    }
   ],
   "source": [
    "\"\"\"\n",
    "from tate import tate_find_results\n",
    "\n",
    "results = tate_find_results(tate_df, \"slave\")\n",
    "\n",
    "results.to_csv('tate_data.csv')\n",
    "\n",
    "FileLink('tate_data.csv')\n",
    "\"\"\""
   ]
  }
 ],
 "metadata": {
  "interpreter": {
   "hash": "a0a5145e6c304e2a9afaf5b930a2955b950bd4b81fe94f7c42930f43f42762eb"
  },
  "kernelspec": {
   "display_name": "Python 3.10.2 64-bit",
   "language": "python",
   "name": "python3"
  },
  "language_info": {
   "codemirror_mode": {
    "name": "ipython",
    "version": 3
   },
   "file_extension": ".py",
   "mimetype": "text/x-python",
   "name": "python",
   "nbconvert_exporter": "python",
   "pygments_lexer": "ipython3",
   "version": "3.10.2"
  },
  "orig_nbformat": 4
 },
 "nbformat": 4,
 "nbformat_minor": 2
}
