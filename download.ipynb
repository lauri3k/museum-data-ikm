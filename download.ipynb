{
 "cells": [
  {
   "cell_type": "code",
   "execution_count": 19,
   "metadata": {},
   "outputs": [],
   "source": [
    "from src.rijks import rijks_find_results\n",
    "from src.met import met_find_results\n",
    "from src.tate import tate_find_results\n",
    "from src.smk import smk_find_results\n",
    "\n",
    "import os\n",
    "import pandas as pd\n",
    "import nest_asyncio\n",
    "import asyncio\n",
    "\n",
    "nest_asyncio.apply()\n",
    "\n",
    "from IPython.display import FileLink"
   ]
  },
  {
   "cell_type": "code",
   "execution_count": 20,
   "metadata": {},
   "outputs": [],
   "source": [
    "# from src.utils import make_df\n",
    "\n",
    "# tate_df = make_df(os.path.join(\"collection\", \"artworks\"))\n"
   ]
  },
  {
   "cell_type": "markdown",
   "metadata": {},
   "source": [
    "# Rijksmuseum"
   ]
  },
  {
   "cell_type": "code",
   "execution_count": 21,
   "metadata": {},
   "outputs": [
    {
     "name": "stdout",
     "output_type": "stream",
     "text": [
      "Found 179 results. Collecting object numbers. This may take a while, if there are a lot of results.\n"
     ]
    },
    {
     "data": {
      "text/html": [
       "<a href='rijks_data_slave.csv' target='_blank'>rijks_data_slave.csv</a><br>"
      ],
      "text/plain": [
       "/Users/lauri/museum-data-ikm/rijks_data_slave.csv"
      ]
     },
     "execution_count": 21,
     "metadata": {},
     "output_type": "execute_result"
    }
   ],
   "source": [
    "query = \"slave\"\n",
    "\n",
    "results = rijks_find_results(query, lang=\"en\")\n",
    "\n",
    "df = pd.json_normalize(results)\n",
    "df.to_csv(f\"rijks_data_{query}.csv\", sep=\";\")\n",
    "\n",
    "FileLink(f\"rijks_data_{query}.csv\")\n"
   ]
  },
  {
   "cell_type": "markdown",
   "metadata": {},
   "source": [
    "# Met"
   ]
  },
  {
   "cell_type": "code",
   "execution_count": 22,
   "metadata": {},
   "outputs": [
    {
     "name": "stdout",
     "output_type": "stream",
     "text": [
      "Found 517 results.\n",
      "Attempted to query https://collectionapi.metmuseum.org/public/collection/v1/objects/21125.\n",
      "The API could not find the object with ID 21125.\n",
      "Attempted to query https://collectionapi.metmuseum.org/public/collection/v1/objects/318430.\n",
      "The API could not find the object with ID 318430.\n"
     ]
    },
    {
     "data": {
      "text/html": [
       "<a href='met_data_slave.csv' target='_blank'>met_data_slave.csv</a><br>"
      ],
      "text/plain": [
       "/Users/lauri/museum-data-ikm/met_data_slave.csv"
      ]
     },
     "execution_count": 22,
     "metadata": {},
     "output_type": "execute_result"
    }
   ],
   "source": [
    "query = \"slave\"\n",
    "\n",
    "results = asyncio.run(met_find_results(query))\n",
    "\n",
    "df = pd.json_normalize(results)\n",
    "df.to_csv(f'met_data_{query}.csv', sep=\";\")\n",
    "\n",
    "FileLink(f'met_data_{query}.csv')"
   ]
  },
  {
   "cell_type": "markdown",
   "metadata": {},
   "source": [
    "# SMK"
   ]
  },
  {
   "cell_type": "code",
   "execution_count": 37,
   "metadata": {},
   "outputs": [
    {
     "name": "stdout",
     "output_type": "stream",
     "text": [
      "Found 2541 objects.\n"
     ]
    },
    {
     "data": {
      "text/html": [
       "<a href='smk_data_green.csv' target='_blank'>smk_data_green.csv</a><br>"
      ],
      "text/plain": [
       "/Users/lauri/museum-data-ikm/smk_data_green.csv"
      ]
     },
     "execution_count": 37,
     "metadata": {},
     "output_type": "execute_result"
    }
   ],
   "source": [
    "query = \"green\"\n",
    "\n",
    "results = smk_find_results(query, lang=\"en\")\n",
    "df = pd.json_normalize(results)\n",
    "\n",
    "for x in [\n",
    "    \"object_names\",\n",
    "    \"documentation\",\n",
    "    \"production\",\n",
    "    \"production_date\",\n",
    "    \"titles\",\n",
    "    \"inscriptions\",\n",
    "]:\n",
    "    df_ext = pd.json_normalize(df[x].str[0].tolist()).add_prefix(f\"{x}.\")\n",
    "    df = pd.concat([df, df_ext], axis=1)\n",
    "\n",
    "df.to_csv(f\"smk_data_{query}.csv\", sep=\";\", encoding=\"utf-8-sig\", index=False)\n",
    "\n",
    "FileLink(f\"smk_data_{query}.csv\")\n"
   ]
  },
  {
   "cell_type": "markdown",
   "metadata": {},
   "source": [
    "# Tate"
   ]
  },
  {
   "cell_type": "code",
   "execution_count": null,
   "metadata": {},
   "outputs": [],
   "source": [
    "# query = \"slave\"\n",
    "\n",
    "# results = tate_find_results(tate_df, query, [\"title\", \"classification\"])\n",
    "# results = tate_find_results(tate_df, query)\n",
    "\n",
    "# results.to_csv(f'tate_data_{query}.csv', sep=\";\")\n",
    "\n",
    "# FileLink(f'tate_data_{query}.csv')\n"
   ]
  }
 ],
 "metadata": {
  "kernelspec": {
   "display_name": "Python 3.10.6 64-bit",
   "language": "python",
   "name": "python3"
  },
  "language_info": {
   "codemirror_mode": {
    "name": "ipython",
    "version": 3
   },
   "file_extension": ".py",
   "mimetype": "text/x-python",
   "name": "python",
   "nbconvert_exporter": "python",
   "pygments_lexer": "ipython3",
   "version": "3.10.6"
  },
  "orig_nbformat": 4,
  "vscode": {
   "interpreter": {
    "hash": "b0fa6594d8f4cbf19f97940f81e996739fb7646882a419484c72d19e05852a7e"
   }
  }
 },
 "nbformat": 4,
 "nbformat_minor": 2
}
