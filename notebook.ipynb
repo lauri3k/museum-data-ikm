{
 "cells": [
  {
   "cell_type": "code",
   "execution_count": 4,
   "metadata": {},
   "outputs": [],
   "source": [
    "import os, glob, json\n",
    "import pandas as pd\n",
    "\n",
    "def make_df(json_dir: str) -> pd.DataFrame:\n",
    "    json_pattern = os.path.join(json_dir, '*.json')\n",
    "\n",
    "    file_list = glob.glob(json_pattern)\n",
    "\n",
    "    dfs = []\n",
    "\n",
    "    for fl in file_list:\n",
    "        with open(fl) as f:\n",
    "            data = pd.json_normalize(json.loads(f.read()))\n",
    "        dfs.append(data)\n",
    "\n",
    "    return pd.concat(dfs)\n",
    "\n",
    "rijks_df = make_df('json/rijks')\n",
    "met_df = make_df('json/met')\n"
   ]
  }
 ],
 "metadata": {
  "interpreter": {
   "hash": "a0a5145e6c304e2a9afaf5b930a2955b950bd4b81fe94f7c42930f43f42762eb"
  },
  "kernelspec": {
   "display_name": "Python 3.10.2 64-bit",
   "language": "python",
   "name": "python3"
  },
  "language_info": {
   "codemirror_mode": {
    "name": "ipython",
    "version": 3
   },
   "file_extension": ".py",
   "mimetype": "text/x-python",
   "name": "python",
   "nbconvert_exporter": "python",
   "pygments_lexer": "ipython3",
   "version": "3.10.2"
  },
  "orig_nbformat": 4
 },
 "nbformat": 4,
 "nbformat_minor": 2
}
